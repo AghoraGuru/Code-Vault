{
 "cells": [
  {
   "cell_type": "code",
   "execution_count": null,
   "metadata": {},
   "outputs": [],
   "source": [
    "\"\"\"Given an array arr[] of N elements and a number K. Split the given array into K subarrays such that the maximum subarray sum achievable out of K subarrays formed is minimum possible. Find that possible subarray sum.\"\"\"\n",
    "class Solution:\n",
    "    def splitArray(self, arr, N, K):\n",
    "        # code here \n",
    "        def isPossible(mid):\n",
    "            count = 1\n",
    "            sum = 0\n",
    "            for i in range(N):\n",
    "                sum += arr[i]\n",
    "                if sum > mid:\n",
    "                    count += 1\n",
    "                    sum = arr[i]\n",
    "            if count > K:\n",
    "                return False\n",
    "            return True\n",
    "\n",
    "        def binarySearch(arr, N, K):\n",
    "            start = max(arr)\n",
    "            end = sum(arr)\n",
    "            res = -1\n",
    "            while start <= end:\n",
    "                mid = (start + end) // 2\n",
    "                if isPossible(mid):\n",
    "                    res = mid\n",
    "                    end = mid - 1\n",
    "                else:\n",
    "                    start = mid + 1\n",
    "            return res\n",
    "\n",
    "        return binarySearch(arr, N, K)\n",
    "\n",
    "        \n",
    "\n"
   ]
  }
 ],
 "metadata": {
  "language_info": {
   "name": "python"
  },
  "orig_nbformat": 4
 },
 "nbformat": 4,
 "nbformat_minor": 2
}
