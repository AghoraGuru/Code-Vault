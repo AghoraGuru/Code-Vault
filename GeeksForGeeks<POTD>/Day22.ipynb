{
 "cells": [
  {
   "cell_type": "code",
   "execution_count": null,
   "metadata": {},
   "outputs": [],
   "source": [
    "\"\"\"Alex is very fond of traveling. There are n cities, labeled from 1 to n.  You are also given flights, a list of travel flights as directed weighted edges flights[i] = (ui,vi,wi) where ui is the source node, vi is the target node, and wi is the price it takes for a person to travel from source to target.\n",
    "Currently, Alex is in k'th city and wants to visit one city of his choice. Return the minimum money Alex should have so that he can visit any city of his choice from k'th city. If there is a city that has no path from k'th city, which means Alex can't visit that city, return -1. \n",
    "Alex always takes the optimal path. He can any city via another city by taking multiple flights.\"\"\"\n",
    "import heapq\n",
    "from typing import List\n",
    "\n",
    "class Solution:\n",
    "    def minimumCost(flights, n, k):\n",
    "    # Your code here\n",
    "    # Write your code here\n",
    "        adj = [[] for _ in range(n+1)]\n",
    "        dist = [float('inf') for _ in range(n+1)]\n",
    "        for flight in flights:\n",
    "            adj[flight[0]].append([flight[1],flight[2]])\n",
    "        \n",
    "        dijkstra(adj,dist,k)\n",
    "        res = 0\n",
    "        for i in range(1,n+1):\n",
    "            res = max(res, dist[i])\n",
    "        return -1 if res == float('inf') else res\n",
    "    \n",
    "def dijkstra(adj, dist, start):\n",
    "    pq = []\n",
    "    dist[start] = 0\n",
    "    heapq.heappush(pq, (0,start))\n",
    "    while pq:\n",
    "        c = heapq.heappop(pq)\n",
    "        node = c[1]\n",
    "        node_dist = c[0]\n",
    "        for vw in adj[node]:\n",
    "            neighbor_node = vw[0]\n",
    "            dist_neighbor = vw[1]\n",
    "            if dist[neighbor_node] > dist_neighbor + dist[node]:\n",
    "                dist[neighbor_node] = dist_neighbor + dist[node]\n",
    "                heapq.heappush(pq, (dist[neighbor_node], neighbor_node))\n"
   ]
  }
 ],
 "metadata": {
  "kernelspec": {
   "display_name": "Python 3",
   "language": "python",
   "name": "python3"
  },
  "language_info": {
   "name": "python",
   "version": "3.10.8 (main, Oct 13 2022, 21:13:48) [GCC 12.2.0]"
  },
  "orig_nbformat": 4,
  "vscode": {
   "interpreter": {
    "hash": "e7370f93d1d0cde622a1f8e1c04877d8463912d04d973331ad4851f04de6915a"
   }
  }
 },
 "nbformat": 4,
 "nbformat_minor": 2
}
