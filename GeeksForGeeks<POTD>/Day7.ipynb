{
 "cells": [
  {
   "cell_type": "code",
   "execution_count": null,
   "metadata": {},
   "outputs": [],
   "source": [
    "\"\"\"Given a string S of lowercase english characters. Rearrange characters of the given string such that the vowels and consonants occupy alternate positions and the string so formed should be lexicographically (alphabetically) smallest. \n",
    "Note: Vowels are 'a', 'e', 'i', 'o' and 'u'. \n",
    "\n",
    "\"\"\"\n",
    "\n",
    "class Solution:\n",
    "    def rearrage(self,S,N):\n",
    "        # code here\n",
    "        u=[]\n",
    "        v=[]\n",
    "        for i in range(len(S)):\n",
    "            if S[i]=='a' or S[i]=='e' or S[i]=='i' or S[i]=='o' or S[i]=='u':\n",
    "                u.append(S[i])\n",
    "            else:\n",
    "                v.append(S[i])\n",
    "        u=sorted(u)\n",
    "        v=sorted(v)\n",
    "        if abs(len(u)-len(v))>1:\n",
    "            return -1\n",
    "        else:\n",
    "            s=max(len(u),len(v))\n",
    "            if len(u)!=len(v):\n",
    "                if s==len(u):\n",
    "                    e=\"\"\n",
    "                    for j in range(len(v)):\n",
    "                        e=e+u[j]\n",
    "                        e=e+v[j]\n",
    "                    if len(v)<len(u):\n",
    "                        e=e+u[-1]\n",
    "                    return e\n",
    "                if s==len(v):\n",
    "                    k=\"\"\n",
    "                    for n in range(len(u)):\n",
    "                        k=k+v[n]\n",
    "                        k=k+u[n]\n",
    "                    if len(u)<len(v):\n",
    "                        k=k+v[-1]\n",
    "                    return k\n",
    "            if len(u)==len(v):\n",
    "                r=min(u[0],v[0])\n",
    "                t=\"\"\n",
    "                if r==v[0]:\n",
    "                    for p in range(len(u)):\n",
    "                        t=t+v[p]\n",
    "                        t=t+u[p]\n",
    "                else:\n",
    "                    for x in range(len(v)):\n",
    "                        t=t+u[x]\n",
    "                        t=t+v[x]\n",
    "                return t"
   ]
  }
 ],
 "metadata": {
  "kernelspec": {
   "display_name": "Python 3.10.8 64-bit",
   "language": "python",
   "name": "python3"
  },
  "language_info": {
   "name": "python",
   "version": "3.10.8"
  },
  "orig_nbformat": 4,
  "vscode": {
   "interpreter": {
    "hash": "e7370f93d1d0cde622a1f8e1c04877d8463912d04d973331ad4851f04de6915a"
   }
  }
 },
 "nbformat": 4,
 "nbformat_minor": 2
}
