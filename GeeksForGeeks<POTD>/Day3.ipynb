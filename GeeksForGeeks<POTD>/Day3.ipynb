{
 "cells": [
  {
   "cell_type": "code",
   "execution_count": null,
   "metadata": {},
   "outputs": [],
   "source": [
    "\"\"\"Given a singly linked list: A0→A1→...→An-2→An-1, reorder it to: A0→An-1→A1→An-2→A2→An-3→...\n",
    "For example: Given 1->2->3->4->5 its reorder is 1->5->2->4->3.\"\"\"\n",
    "\n",
    "class node:\n",
    "    def __init__(self, val) :\n",
    "        self.data = val\n",
    "        self.next = None\n",
    "class Linked_list:\n",
    "    def __init__(self) :\n",
    "        self.head = None\n",
    "        self.tail = None\n",
    "\n",
    "class Solution:\n",
    "    def reorderList(self,head):\n",
    "        if head is None or head.next is None:\n",
    "            return head\n",
    "        slow = head\n",
    "        fast = head\n",
    "        while fast.next and fast.next.next:\n",
    "            slow = slow.next\n",
    "            fast = fast.next.next\n",
    "        second = slow.next\n",
    "        slow.next = None\n",
    "        second = self.reverse(second)\n",
    "        first = head\n",
    "        while second:\n",
    "            tmp = first.next\n",
    "            first.next = second\n",
    "            second = second.next\n",
    "            first.next.next = tmp\n",
    "            first = tmp\n",
    "        return head\n",
    "    \n",
    "    def reverse(self,head):\n",
    "        prev = None\n",
    "        while head:\n",
    "            tmp = head.next\n",
    "            head.next = prev\n",
    "            prev = head\n",
    "            head = tmp\n",
    "        return prev\n",
    "            "
   ]
  }
 ],
 "metadata": {
  "kernelspec": {
   "display_name": "Python 3.10.8 64-bit",
   "language": "python",
   "name": "python3"
  },
  "language_info": {
   "name": "python",
   "version": "3.10.8"
  },
  "orig_nbformat": 4,
  "vscode": {
   "interpreter": {
    "hash": "e7370f93d1d0cde622a1f8e1c04877d8463912d04d973331ad4851f04de6915a"
   }
  }
 },
 "nbformat": 4,
 "nbformat_minor": 2
}
