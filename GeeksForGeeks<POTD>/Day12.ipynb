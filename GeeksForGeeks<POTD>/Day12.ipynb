{
 "cells": [
  {
   "cell_type": "code",
   "execution_count": null,
   "metadata": {},
   "outputs": [],
   "source": [
    "\"\"\"Given the chessboard dimensions. Find out the number of ways we can place a black and a white Knight on this chessboard such that they cannot attack each other.\n",
    "\n",
    "Note:\n",
    "The knights have to be placed on different squares. A knight can move two squares horizontally and one square vertically (L shaped), or two squares vertically and one square horizontally (L shaped). The knights attack each other if one can reach the other in one move.\n",
    "\n",
    "\"\"\"\"\n",
    "\n",
    "def numOfways(M,N):\n",
    "    #code here\n",
    "    ans=0 \n",
    "    total = M*N \n",
    "    mod= pow(10,9)+7\n",
    "    dirt= [[2,1], [-2, 1], [-2, -1], [2,-1], [1,2], [1,-2], [-1, 2], [-1,-2]]\n",
    "    for i in range(M):\n",
    "        for j in range(N):\n",
    "            count=0\n",
    "            for x,y in dirt:\n",
    "                if 0<=i+x<M and 0<=y+j<N :\n",
    "                    count+=1 \n",
    "            ans+= (total-1-count)%mod \n",
    "            ans=ans%mod \n",
    "    return ans "
   ]
  }
 ],
 "metadata": {
  "language_info": {
   "name": "python"
  },
  "orig_nbformat": 4
 },
 "nbformat": 4,
 "nbformat_minor": 2
}
