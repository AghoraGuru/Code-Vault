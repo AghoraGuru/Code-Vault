{
 "cells": [
  {
   "cell_type": "code",
   "execution_count": null,
   "metadata": {},
   "outputs": [],
   "source": [
    "\"\"\"Given a binary grid of n*m. Find the distance of the nearest 1 in the grid for each cell.\n",
    "The distance is calculated as |i1  - i2| + |j1 - j2|, where i1, j1 are the row number and column number of the current cell, and i2, j2 are the row number and column number of the nearest cell having value 1.\"\"\"\n",
    "\n",
    "from collections import deque\n",
    "class Solution:\n",
    "    def nearest(self,grid):\n",
    "        #code here\n",
    "        q = deque([])\n",
    "\t\trows = len(grid)\n",
    "\t\tcols = len(grid[0])\n",
    "\t\tdistance = [[\".\"]*cols for i in range(rows)]\n",
    "\t\tvisited = set()\n",
    "\t\tdirections = [[1,0],[-1,0],[0,1],[0,-1]]\n",
    "        for i in range(rows):\n",
    "            for j in range(cols):\n",
    "                if grid[i][j] == 1:\n",
    "                    q.append([i,j])\n",
    "                    visited.add((i,j))\n",
    "                    distance[i][j] = 0\n",
    "        while q:\n",
    "            x,y = q.popleft()\n",
    "            for i,j in directions:\n",
    "                if 0<=x+i<rows and 0<=y+j<cols and (x+i,y+j) not in visited:\n",
    "                    distance[x+i][y+j] = distance[x][y] + 1\n",
    "                    q.append([x+i,y+j])\n",
    "                    visited.add((x+i,y+j))\n",
    "        return distance\n",
    "\n"
   ]
  }
 ],
 "metadata": {
  "language_info": {
   "name": "python"
  },
  "orig_nbformat": 4
 },
 "nbformat": 4,
 "nbformat_minor": 2
}
