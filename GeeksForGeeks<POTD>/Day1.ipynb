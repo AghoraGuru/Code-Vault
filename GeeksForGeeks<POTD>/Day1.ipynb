{
 "cells": [
  {
   "cell_type": "code",
   "execution_count": null,
   "metadata": {},
   "outputs": [],
   "source": [
    "\"\"\"Find out the maximum sub-array of non negative numbers from an array.\n",
    "\n",
    "The sub-array should be contiguous i.e., a sub-array created by choosing the second and fourth element and skipping the third element is invalid.\n",
    "\n",
    "Maximum sub-array is defined in terms of the sum of the elements in the sub-array. Sub-array A is greater than sub-array B if sum(A) > sum(B).\n",
    "\n",
    "\"\"\"\n",
    "\n",
    "class Solution:\n",
    "    def findSubarray(self,a,n):\n",
    "        res, maxsum, pos1, pos2, sum1 = {}, float(\"-inf\"), 0, 0, 0\n",
    "        for i in range(n):\n",
    "            if a[i]<0: maxsum, res[sum1], sum1, pos1, pos2 = max(maxsum, sum1), res.get(sum1, [])+[a[pos1:pos2]], 0, i+1, i+1\n",
    "            else: sum1, pos2 = sum1+a[i], i+1\n",
    "\n",
    "        maxsum, res[sum1], maxlen, res1 = max(maxsum, sum1), res.get(sum1, [])+[a[pos1:pos2]], float(\"-inf\"), []\n",
    "        \n",
    "        for i in res[maxsum]:\n",
    "            if len(i)>maxlen: maxlen, res1 = len(i), i\n",
    "        \n",
    "        if len(res1)==0: return [-1]\n",
    "        return res1"
   ]
  }
 ],
 "metadata": {
  "kernelspec": {
   "display_name": "Python 3.10.8 64-bit",
   "language": "python",
   "name": "python3"
  },
  "language_info": {
   "name": "python",
   "version": "3.10.8"
  },
  "orig_nbformat": 4,
  "vscode": {
   "interpreter": {
    "hash": "e7370f93d1d0cde622a1f8e1c04877d8463912d04d973331ad4851f04de6915a"
   }
  }
 },
 "nbformat": 4,
 "nbformat_minor": 2
}
