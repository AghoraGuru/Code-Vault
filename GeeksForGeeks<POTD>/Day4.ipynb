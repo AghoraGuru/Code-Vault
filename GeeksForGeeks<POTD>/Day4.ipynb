{
 "cells": [
  {
   "cell_type": "code",
   "execution_count": null,
   "metadata": {},
   "outputs": [],
   "source": [
    "\"\"\"Given a sorted array of positive integers. Your task is to rearrange the array elements alternatively i.e first element should be max value, second should be min value, third should be second max, fourth should be second min and so on.\n",
    "Note: Modify the original array itself. Do it without using any extra space. You do not have to return anything.\n",
    "\n",
    "\"\"\"\n",
    "\n",
    "class Solution:\n",
    "    def rearranfe(self,arr,n):\n",
    "        #code here\n",
    "        a = sorted(arr)\n",
    "        i=0\n",
    "        j=n-1\n",
    "        for x in range(0,n,2):\n",
    "            arr[x] = a[j]\n",
    "            if (x+1 <= n-1):\n",
    "                arr[x+1] = a[i]\n",
    "            j-=1\n",
    "            i+=1\n",
    "        return arr\n",
    "        "
   ]
  }
 ],
 "metadata": {
  "kernelspec": {
   "display_name": "Python 3.10.8 64-bit",
   "language": "python",
   "name": "python3"
  },
  "language_info": {
   "name": "python",
   "version": "3.10.8"
  },
  "orig_nbformat": 4,
  "vscode": {
   "interpreter": {
    "hash": "e7370f93d1d0cde622a1f8e1c04877d8463912d04d973331ad4851f04de6915a"
   }
  }
 },
 "nbformat": 4,
 "nbformat_minor": 2
}
