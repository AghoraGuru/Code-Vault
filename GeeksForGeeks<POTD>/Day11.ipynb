{
 "cells": [
  {
   "cell_type": "code",
   "execution_count": 1,
   "metadata": {},
   "outputs": [
    {
     "ename": "TabError",
     "evalue": "inconsistent use of tabs and spaces in indentation (1691015893.py, line 11)",
     "output_type": "error",
     "traceback": [
      "\u001b[0;36m  Cell \u001b[0;32mIn [1], line 11\u001b[0;36m\u001b[0m\n\u001b[0;31m    prime = [True]*(m+1)\u001b[0m\n\u001b[0m    ^\u001b[0m\n\u001b[0;31mTabError\u001b[0m\u001b[0;31m:\u001b[0m inconsistent use of tabs and spaces in indentation\n"
     ]
    }
   ],
   "source": [
    "\"\"\"You are given a list of q queries and for every query, you are given an integer N.  The task is to find how many numbers(less than or equal to N) have number of divisors exactly equal to 3.\n",
    "\n",
    "\"\"\"\n",
    "\n",
    "import math\n",
    "\n",
    "class Solution:\n",
    "    def threeDivisors(self,query,q):\n",
    "        # code here\n",
    "        m = int(math.sqrt(max(query)))\n",
    "        prime = [True]*(m+1)\n",
    "        prime[0], prime[1] = False, False\n",
    "        for i in range(2, len(prime)):\n",
    "\t        if not prime[i]:\n",
    "\t            continue\n",
    "            for j in range(i*i, len(prime), i):\n",
    "\t            prime[j] = False\n",
    "        prime = [i for i, e in enumerate(prime) if e]\n",
    "\t    #print(prime)\n",
    "        ans = [0]*q\n",
    "        for i in range(q):\n",
    "\t        for k in prime:\n",
    "\t            if k*k > query[i]:\n",
    "\t                break\n",
    "\t            ans[i] += 1\n",
    "        return ans"
   ]
  }
 ],
 "metadata": {
  "kernelspec": {
   "display_name": "Python 3.10.8 64-bit",
   "language": "python",
   "name": "python3"
  },
  "language_info": {
   "codemirror_mode": {
    "name": "ipython",
    "version": 3
   },
   "file_extension": ".py",
   "mimetype": "text/x-python",
   "name": "python",
   "nbconvert_exporter": "python",
   "pygments_lexer": "ipython3",
   "version": "3.10.8"
  },
  "orig_nbformat": 4,
  "vscode": {
   "interpreter": {
    "hash": "e7370f93d1d0cde622a1f8e1c04877d8463912d04d973331ad4851f04de6915a"
   }
  }
 },
 "nbformat": 4,
 "nbformat_minor": 2
}
