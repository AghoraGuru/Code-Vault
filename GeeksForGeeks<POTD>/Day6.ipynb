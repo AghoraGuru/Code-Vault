{
 "cells": [
  {
   "cell_type": "code",
   "execution_count": null,
   "metadata": {},
   "outputs": [],
   "source": [
    "\"\"\"You are given an array consisting of n integers which denote the position of a stall. You are also given an integer k which denotes the number of aggressive cows. You are given the task of assigning stalls to k cows such that the minimum distance between any two of them is the maximum possible.\n",
    "The first line of input contains two space-separated integers n and k.\n",
    "The second line contains n space-separated integers denoting the position of the stalls.\"\"\"\n",
    "\n",
    "class Solution:\n",
    "    def solve(self,n,k,stalls):\n",
    "        stalls.sort()\n",
    "        low,high,res = 1,stalls[n-1]-stalls[0],0\n",
    "\n",
    "        while low <= high:\n",
    "            mid = (low+high)//2\n",
    "            if self.canPlaceCows(stalls,n,k,mid):\n",
    "                res = mid\n",
    "                low = mid+1\n",
    "            else:\n",
    "                high = mid-1\n",
    "        return res\n",
    "\n",
    "    def canPlaceCows(self,stalls,n,k,dist):\n",
    "        pos = stalls[0]\n",
    "        count = 1\n",
    "        for i in range(1,n):\n",
    "            if stalls[i]-pos >= dist:\n",
    "                pos = stalls[i]\n",
    "                count += 1\n",
    "                if count == k:\n",
    "                    return True\n",
    "        return False\n"
   ]
  }
 ],
 "metadata": {
  "kernelspec": {
   "display_name": "Python 3.10.8 64-bit",
   "language": "python",
   "name": "python3"
  },
  "language_info": {
   "name": "python",
   "version": "3.10.8"
  },
  "orig_nbformat": 4,
  "vscode": {
   "interpreter": {
    "hash": "e7370f93d1d0cde622a1f8e1c04877d8463912d04d973331ad4851f04de6915a"
   }
  }
 },
 "nbformat": 4,
 "nbformat_minor": 2
}
