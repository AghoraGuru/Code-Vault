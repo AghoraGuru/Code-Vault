{
 "cells": [
  {
   "cell_type": "code",
   "execution_count": 1,
   "metadata": {},
   "outputs": [
    {
     "ename": "SyntaxError",
     "evalue": "incomplete input (3447165129.py, line 5)",
     "output_type": "error",
     "traceback": [
      "\u001b[0;36m  Cell \u001b[0;32mIn [1], line 5\u001b[0;36m\u001b[0m\n\u001b[0;31m    class Solution:\u001b[0m\n\u001b[0m                   ^\u001b[0m\n\u001b[0;31mSyntaxError\u001b[0m\u001b[0;31m:\u001b[0m incomplete input\n"
     ]
    }
   ],
   "source": [
    "'''Given an array arr[] of N elements and a number K. Split the given array into K subarrays such that the maximum subarray sum achievable out of K subarrays formed is minimum possible. Find that possible subarray sum.\n",
    "\n",
    "'''\n",
    "\n",
    "class Solution:\n",
    "    def splitArray(self, arr, N, K):\n",
    "        # code here \n",
    "        def isPossible(mid):\n",
    "            count = 1\n",
    "            sum = 0\n",
    "            for i in range(N):\n",
    "                sum += arr[i]\n",
    "                if sum > mid:\n",
    "                    count += 1\n",
    "                    sum = arr[i]\n",
    "            if count > K:\n",
    "                return False\n",
    "            return True\n",
    "\n",
    "        def binarySearch(arr, N, K):\n",
    "            start = max(arr)\n",
    "            end = sum(arr)\n",
    "            res = -1\n",
    "            while start <= end:\n",
    "                mid = (start + end) // 2\n",
    "                if isPossible(mid):\n",
    "                    res = mid\n",
    "                    end = mid - 1\n",
    "                else:\n",
    "                    start = mid + 1\n",
    "            return res\n",
    "\n",
    "        return binarySearch(arr, N, K)\n",
    "\n",
    "        "
   ]
  },
  {
   "cell_type": "code",
   "execution_count": null,
   "metadata": {},
   "outputs": [],
   "source": []
  }
 ],
 "metadata": {
  "kernelspec": {
   "display_name": "Python 3.10.8 64-bit",
   "language": "python",
   "name": "python3"
  },
  "language_info": {
   "codemirror_mode": {
    "name": "ipython",
    "version": 3
   },
   "file_extension": ".py",
   "mimetype": "text/x-python",
   "name": "python",
   "nbconvert_exporter": "python",
   "pygments_lexer": "ipython3",
   "version": "3.10.8 (main, Oct 13 2022, 21:13:48) [GCC 12.2.0]"
  },
  "orig_nbformat": 4,
  "vscode": {
   "interpreter": {
    "hash": "e7370f93d1d0cde622a1f8e1c04877d8463912d04d973331ad4851f04de6915a"
   }
  }
 },
 "nbformat": 4,
 "nbformat_minor": 2
}
