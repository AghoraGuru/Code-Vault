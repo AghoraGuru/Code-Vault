{
 "cells": [
  {
   "cell_type": "code",
   "execution_count": null,
   "metadata": {},
   "outputs": [],
   "source": [
    "class Solution:\n",
    "    def solve(self, a : int, b : int) -> int:\n",
    "        # code here\n",
    "        count = 0\n",
    "        while a!=b:\n",
    "            if a > b:\n",
    "                a = a &b\n",
    "            else:\n",
    "                b = b&a\n",
    "            count += 1\n",
    "        return count"
   ]
  }
 ],
 "metadata": {
  "language_info": {
   "name": "python"
  },
  "orig_nbformat": 4
 },
 "nbformat": 4,
 "nbformat_minor": 2
}
