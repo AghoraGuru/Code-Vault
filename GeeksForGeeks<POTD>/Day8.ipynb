{
 "cells": [
  {
   "cell_type": "code",
   "execution_count": 1,
   "metadata": {},
   "outputs": [
    {
     "ename": "SyntaxError",
     "evalue": "incomplete input (3112468492.py, line 39)",
     "output_type": "error",
     "traceback": [
      "\u001b[0;36m  Cell \u001b[0;32mIn [1], line 39\u001b[0;36m\u001b[0m\n\u001b[0;31m    #optimised solution\u001b[0m\n\u001b[0m                       ^\u001b[0m\n\u001b[0;31mSyntaxError\u001b[0m\u001b[0;31m:\u001b[0m incomplete input\n"
     ]
    }
   ],
   "source": [
    "\"\"\"Given a 2-D binary matrix of size n*m, where 0 represents an empty space while 1 represents a wall you cannot walk through. You are also given an integer k.\n",
    "You can walk up, down, left, or right. Given that you can remove up to k walls, return the minimum number of steps to walk from the top left corner (0, 0) to the bottom right corner (n-1, m-1).\n",
    "Note: If there is no way to walk from the top left corner to the bottom right corner, return -1.\"\"\"\n",
    "\n",
    "\n",
    "from collections import deque\n",
    "class Solution:\n",
    "    def shotestPath(mat, n, m, k):\n",
    "        Fours = [(0, 1), (0, -1), (1, 0), (-1, 0)]\n",
    "\n",
    "        q = deque()\n",
    "        q.append(Fours(0, 0, 0, k))\n",
    "        visited = [[[False] * (k + 1) for j in range(m)] for i in range(n)]\n",
    "        visited[0][0][k] = True\n",
    "        dx = [1, 0, 0, -1]\n",
    "        dy = [0, 1, -1, 0]\n",
    "        while len(q) > 0:\n",
    "            curr = q.popleft()\n",
    "            i = curr.i\n",
    "            j = curr.j\n",
    "            dist = curr.dist\n",
    "            obs = curr.obs\n",
    "            if i == n - 1 and j == m - 1:\n",
    "                return dist\n",
    "            for dir in range(4):\n",
    "                ni = i + dx[dir]\n",
    "                nj = j + dy[dir]\n",
    "                if ni >= 0 and nj >= 0 and ni < n and nj < m and not visited[ni][nj][obs]:\n",
    "                    if mat[ni][nj] == 0:\n",
    "                        visited[ni][nj][obs] = True\n",
    "                        q.append(Fours(ni, nj, dist + 1, obs))\n",
    "                    elif mat[ni][nj] == 1 and obs > 0:\n",
    "                        visited[ni][nj][obs] = True\n",
    "                        q.append(Fours(ni, nj, dist + 1, obs - 1))\n",
    "        return -1\n",
    "        \n"
   ]
  }
 ],
 "metadata": {
  "kernelspec": {
   "display_name": "Python 3.10.8 64-bit",
   "language": "python",
   "name": "python3"
  },
  "language_info": {
   "codemirror_mode": {
    "name": "ipython",
    "version": 3
   },
   "file_extension": ".py",
   "mimetype": "text/x-python",
   "name": "python",
   "nbconvert_exporter": "python",
   "pygments_lexer": "ipython3",
   "version": "3.10.8"
  },
  "orig_nbformat": 4,
  "vscode": {
   "interpreter": {
    "hash": "e7370f93d1d0cde622a1f8e1c04877d8463912d04d973331ad4851f04de6915a"
   }
  }
 },
 "nbformat": 4,
 "nbformat_minor": 2
}
