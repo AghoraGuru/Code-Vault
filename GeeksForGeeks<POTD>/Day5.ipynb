{
 "cells": [
  {
   "cell_type": "code",
   "execution_count": 1,
   "metadata": {},
   "outputs": [
    {
     "ename": "SyntaxError",
     "evalue": "incomplete input (1490685041.py, line 8)",
     "output_type": "error",
     "traceback": [
      "\u001b[0;36m  Cell \u001b[0;32mIn [1], line 8\u001b[0;36m\u001b[0m\n\u001b[0;31m    class Solution:\u001b[0m\n\u001b[0m                   ^\u001b[0m\n\u001b[0;31mSyntaxError\u001b[0m\u001b[0;31m:\u001b[0m incomplete input\n"
     ]
    }
   ],
   "source": [
    "\"\"\"Given two strings S and T, which contains three characters i.e 'A', 'B' and '#' only. Check whether it is possible to convert the first string into another string by performing following operations on string first.\n",
    "1- A can move towards Left only\n",
    "2- B can move towards Right only\n",
    "3- Neither A nor B should cross each other\n",
    "Note: Moving i'th character towards Left one step means swap i'th with (i-1)'th charecter [ i-1>=0 ]. Moving i'th character towards Right one step means swap i'th with (i+1)'th charecter [ i+1< string's length ]. \"\"\"\n",
    "\n",
    "\n",
    "class Solution:\n",
    "    def isItPossible(self, S,T,M,N):\n",
    "        # code here\n",
    "        i, j = 0, 0\n",
    "        while i < len(S) and j < len(T):\n",
    "            while i < len(S) and S[i] == '#':\n",
    "                i += 1\n",
    "            while j < len(T) and T[j] == '#':\n",
    "                j += 1\n",
    "            if i == len(S) and j == len(T):\n",
    "                return 1\n",
    "            if i == len(S) or j == len(T):\n",
    "                return 0\n",
    "            if S[i] != T[j]:\n",
    "                return 0\n",
    "            if S[i] == 'A' and i > j:\n",
    "                return 0\n",
    "            if S[i] == 'B' and i < j:\n",
    "                return 0\n",
    "            i += 1\n",
    "            j += 1\n",
    "        return 1\n",
    "        \n"
   ]
  },
  {
   "cell_type": "code",
   "execution_count": null,
   "metadata": {},
   "outputs": [],
   "source": []
  }
 ],
 "metadata": {
  "kernelspec": {
   "display_name": "Python 3.10.8 64-bit",
   "language": "python",
   "name": "python3"
  },
  "language_info": {
   "codemirror_mode": {
    "name": "ipython",
    "version": 3
   },
   "file_extension": ".py",
   "mimetype": "text/x-python",
   "name": "python",
   "nbconvert_exporter": "python",
   "pygments_lexer": "ipython3",
   "version": "3.10.8"
  },
  "orig_nbformat": 4,
  "vscode": {
   "interpreter": {
    "hash": "e7370f93d1d0cde622a1f8e1c04877d8463912d04d973331ad4851f04de6915a"
   }
  }
 },
 "nbformat": 4,
 "nbformat_minor": 2
}
