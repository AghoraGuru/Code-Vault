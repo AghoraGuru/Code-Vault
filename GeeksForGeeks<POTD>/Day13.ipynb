{
 "cells": [
  {
   "cell_type": "code",
   "execution_count": null,
   "metadata": {},
   "outputs": [],
   "source": [
    "\"\"\"Given a number k and string num of digits (0 to 9) denoting a positive integer. Find a string denoting the lowest integer number possible by removing k digits from num, without changing their order.\n",
    "Note: num will not contain any leading zero.\"\"\"\n",
    "\n",
    "class Solution:\n",
    "    def buildLowestNumber(self,S,N):\n",
    "        #code here\n",
    "        stack = []\n",
    "        for i in range(len(S)):\n",
    "            while stack and N>0 and stack[-1]>S[i]:\n",
    "                stack.pop()\n",
    "                N -= 1\n",
    "            stack.append(S[i])\n",
    "        while N>0:\n",
    "            stack.pop()\n",
    "            N -= 1\n",
    "            #return \"\".join(stack) without first zero\n",
    "        while stack and stack[0]==\"0\":\n",
    "            stack.pop(0)\n",
    "        if len(stack)==0:\n",
    "            return \"0\"\n",
    "        return \"\".join(stack)"
   ]
  }
 ],
 "metadata": {
  "kernelspec": {
   "display_name": "Python 3.10.8 64-bit",
   "language": "python",
   "name": "python3"
  },
  "language_info": {
   "name": "python",
   "version": "3.10.8"
  },
  "orig_nbformat": 4,
  "vscode": {
   "interpreter": {
    "hash": "e7370f93d1d0cde622a1f8e1c04877d8463912d04d973331ad4851f04de6915a"
   }
  }
 },
 "nbformat": 4,
 "nbformat_minor": 2
}
