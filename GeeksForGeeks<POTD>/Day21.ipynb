{
 "cells": [
  {
   "cell_type": "code",
   "execution_count": null,
   "metadata": {},
   "outputs": [],
   "source": [
    "\"\"\"Given an integer N. Find maximum LCM (Least Common Multiple) that can be obtained from four numbers less than or equal to N.\n",
    "Note: Duplicate numbers can be used.\"\"\"\n",
    "class Solution:    \n",
    "    def maxGcd(self,N):\n",
    "        #code here\n",
    "        ans1=N*(N-1)\n",
    "        ans2=(N-1)*(N-2)\n",
    "        i1=N-2\n",
    "        \n",
    "\n",
    "        count=0\n",
    "        while i1>=0:\n",
    "            if math.gcd(ans1, i1)==1:\n",
    "                ans1*=i1\n",
    "                count+=1\n",
    "            if count==2:\n",
    "                break\n",
    "            i1-=1\n",
    "        i2=N-3\n",
    "        count=0\n",
    "        while i2>=0:\n",
    "            if math.gcd(ans2, i2)==1:\n",
    "                ans2*=i2\n",
    "                count+=1\n",
    "            if count==2:\n",
    "                break\n",
    "            i2-=1\n",
    "        return max(ans1, ans2)\n"
   ]
  }
 ],
 "metadata": {
  "language_info": {
   "name": "python"
  },
  "orig_nbformat": 4
 },
 "nbformat": 4,
 "nbformat_minor": 2
}
