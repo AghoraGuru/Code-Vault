{
 "cells": [
  {
   "cell_type": "code",
   "execution_count": null,
   "metadata": {},
   "outputs": [],
   "source": [
    "\"\"\"Given an array of integers and a number k, write a function that returns true if given array can be divided into pairs such that sum of every pair is divisible by k.a\n",
    "\"\"\"\n",
    "\n",
    "class Solution:\n",
    "    def canPair(self,nuns,k):\n",
    "        #Code Here\n",
    "        d = {}\n",
    "        for i in nums:\n",
    "            if i%k in d:\n",
    "                d[i%k] += 1\n",
    "            else:\n",
    "                d[i%k] = 1\n",
    "        for i in d:\n",
    "            if i == 0:\n",
    "                if d[i]%2 != 0:\n",
    "                    return False\n",
    "            elif k-i in d:\n",
    "                if d[i] != d[k-i]:\n",
    "                    return False\n",
    "            else:\n",
    "                return False\n",
    "        return True\n",
    "        "
   ]
  }
 ],
 "metadata": {
  "language_info": {
   "name": "python"
  },
  "orig_nbformat": 4
 },
 "nbformat": 4,
 "nbformat_minor": 2
}
