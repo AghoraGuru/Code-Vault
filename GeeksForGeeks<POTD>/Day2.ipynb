{
 "cells": [
  {
   "cell_type": "code",
   "execution_count": 1,
   "metadata": {},
   "outputs": [],
   "source": [
    "\"\"\"Given an array arr[] of n integers, where each integer is greater than 1. The task is to find the number of Full binary tree from the given integers, such that each non-leaf node value is the product of its children value.\"\"\"\n",
    "\n",
    "class Solution:\n",
    "    def numoffbt(self,arr,n):\n",
    "        # code here\n",
    "        d = {x:1 for x in arr}\n",
    "        a =\n",
    "\n",
    "        ans = 0\n",
    "\n",
    "        for i in a:\n",
    "\n",
    "            for j in range(2*i, min(i*i + 1, a[-1] +1), i):\n",
    "\n",
    "                if j in d and j//i in d:\n",
    "\n",
    "                    temp = d[i] * d[j//i]\n",
    "\n",
    "                    if i*i != j:\n",
    "\n",
    "                        temp = 2 * temp\n",
    "\n",
    "                    d[j] += temp \n",
    "\n",
    "            ans += d[i]     \n",
    "\n",
    "        return ans%1000000007"
   ]
  }
 ],
 "metadata": {
  "kernelspec": {
   "display_name": "Python 3.10.8 64-bit",
   "language": "python",
   "name": "python3"
  },
  "language_info": {
   "codemirror_mode": {
    "name": "ipython",
    "version": 3
   },
   "file_extension": ".py",
   "mimetype": "text/x-python",
   "name": "python",
   "nbconvert_exporter": "python",
   "pygments_lexer": "ipython3",
   "version": "3.10.8"
  },
  "orig_nbformat": 4,
  "vscode": {
   "interpreter": {
    "hash": "e7370f93d1d0cde622a1f8e1c04877d8463912d04d973331ad4851f04de6915a"
   }
  }
 },
 "nbformat": 4,
 "nbformat_minor": 2
}
