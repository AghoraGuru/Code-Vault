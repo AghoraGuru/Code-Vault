{
 "cells": [
  {
   "cell_type": "code",
   "execution_count": null,
   "metadata": {},
   "outputs": [],
   "source": [
    "'''Mehak starts the game from tile (i,j) while Avantika and Aakriti direct her. In each turn Mehak will collect all the stones present (1 or 2) steps away from where she is standing. Avantika can direct Mehak to take 1 step and and Aakriti can direct Mehak to take 2 steps. \n",
    "If the director ty is known to you as ty = 0 being Avantika and 1 being Aakriti, find the number of stones that Mehak will collect. \n",
    "\n",
    "'''\n",
    "\n",
    "class Solution:\n",
    "    def hopscotch(self, n, m, mat, ty, i, j):\n",
    "        # code here\n",
    "        i, j = 2*i + j%2, 2*j \n",
    "        res = 0\n",
    "        \n",
    "        if ty == 0:\n",
    "            for di, dj in [[-2,0], [2,0], [-1,-2], [-1,2], [1,-2], [1,2]]:\n",
    "                ni, nj = (i + di)//2, (j + dj)//2\n",
    "                if 0 <= ni < n and 0 <= nj < m:\n",
    "                    res += mat[ni][nj]\n",
    "        else:\n",
    "            for di, dj in [[-4,0], [4,0], [0,-4], [0,4], [-3,-2], [-3,2], [3,-2], [3,2], [-2,-4], [-2,4], [2,-4], [2,4]]:\n",
    "                ni, nj = (i + di)//2, (j + dj)//2\n",
    "                if 0 <= ni < n and 0 <= nj < m:\n",
    "                    res += mat[ni][nj]\n",
    "            \n",
    "        return res"
   ]
  }
 ],
 "metadata": {
  "kernelspec": {
   "display_name": "Python 3.10.8 64-bit",
   "language": "python",
   "name": "python3"
  },
  "language_info": {
   "codemirror_mode": {
    "name": "ipython",
    "version": 3
   },
   "file_extension": ".py",
   "mimetype": "text/x-python",
   "name": "python",
   "nbconvert_exporter": "python",
   "pygments_lexer": "ipython3",
   "version": "3.10.8"
  },
  "orig_nbformat": 4,
  "vscode": {
   "interpreter": {
    "hash": "e7370f93d1d0cde622a1f8e1c04877d8463912d04d973331ad4851f04de6915a"
   }
  }
 },
 "nbformat": 4,
 "nbformat_minor": 2
}
