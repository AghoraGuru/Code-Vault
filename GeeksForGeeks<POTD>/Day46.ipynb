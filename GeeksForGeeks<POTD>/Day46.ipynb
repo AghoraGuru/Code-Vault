{
 "cells": [
  {
   "cell_type": "code",
   "execution_count": null,
   "metadata": {},
   "outputs": [],
   "source": [
    "'''Given an array of strings arr[]. You have to find the longest string which is lexicographically smallest and also all of its prefix strings are already present in the array.'''\n",
    "class Solution():\n",
    "    def longestString(self, arr, n):\n",
    "        #your code goes here\n",
    "        arr.sort()\n",
    "        mp = {\"\":0}\n",
    "        result = ''\n",
    "        for i in arr:\n",
    "            if i[:-1] in mp:\n",
    "                mp[i] = len(i)\n",
    "                \n",
    "                if mp[i] > len(result):\n",
    "                    result = i\n",
    "        \n",
    "        return result"
   ]
  }
 ],
 "metadata": {
  "language_info": {
   "name": "python"
  },
  "orig_nbformat": 4
 },
 "nbformat": 4,
 "nbformat_minor": 2
}
